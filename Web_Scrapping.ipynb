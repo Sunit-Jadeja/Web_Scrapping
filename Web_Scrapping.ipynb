{
 "cells": [
  {
   "cell_type": "code",
   "execution_count": 1,
   "id": "9ca361f7",
   "metadata": {},
   "outputs": [],
   "source": [
    "import requests   # Importing requests to extract content from a url\n",
    "from bs4 import BeautifulSoup as bs # Beautifulsoup is for web scrapping...used to scrap specific content \n",
    "import re \n",
    "iphone_reviews=[]\n",
    "\n",
    "### Extracting reviews from Amazon website ################\n",
    "for i in range(1,10):\n",
    "  ip=[]  \n",
    "  url=\"https://www.amazon.in/Apple-MacBook-Air-13-3-inch-Integrated/product-reviews/B073Q5R6VR/ref=cm_cr_arp_d_paging_btm_2?showViewpoints=1&pageNumber=\"+str(i)\n",
    "  response = requests.get(url)\n",
    "  soup = bs(response.content,\"html.parser\")# creating soup object to iterate over the extracted content \n",
    "  reviews = soup.findAll(\"span\",attrs={\"class\",\"a-size-base review-text\"})# Extracting the content under specific tags  \n",
    "  for i in range(len(reviews)):\n",
    "    ip.append(reviews[i].text)  \n",
    "  iphone_reviews=iphone_reviews+ip  # adding the reviews of one page to empty list which in future contains all the reviews"
   ]
  },
  {
   "cell_type": "code",
   "execution_count": 7,
   "id": "499a107a",
   "metadata": {
    "scrolled": false
   },
   "outputs": [
    {
     "data": {
      "text/plain": [
       "['Amazing product at this price....At first I was reluctant to buy an apple product from snapdeal but the deal made me crazy n I ordered with fingers cr \\xa0read more ',\n",
       " \"It's cool phone, good processing with latest iOS. The cons are: Low memory space. There is total 8 gb space, and almost 6 gb are already filled u \\xa0read more  \",\n",
       " 'Superb model , snapdeal delivered as promised time',\n",
       " 'Pros : Picture quality is awesome, sound with hearing ad is good, look and feel is good \\n \\ncons: You cannot transfer files using bluetooth from andriod/blackberry/windows to iphone, You have to use some file transfer app like shareit.\\n\\nOther is good. I am new to iphone so till now this is it.\\n\\niPhone 5c + Snapdeal before time delivery = 4 stars',\n",
       " 'Very good phone in this price category with manufacturers warranty',\n",
       " 'I am happy with my new Iphone. Thanks you for providing me with the product of my choice with the best deal.',\n",
       " 'The 5C was delivered in a sealed box - crisp and brand new !  super deal.',\n",
       " 'Really happy with the product and service..always the best..:)',\n",
       " 'Great product at such amazing price. Delivery was fast. N iPhone is amazing.',\n",
       " 'Good  i phone mobile oparating essy , inter net fast working',\n",
       " \"Ordered for my sister's rakhi gift 1 week prior . however it came faster than that..\\nand thanks for getting offer from recharge site.\\n\\ngreat job team.\",\n",
       " 'Beautiful Product. Original Apple Product and delivery in 2nd day.\\nAnd iPhone is iPhone ;-)']"
      ]
     },
     "execution_count": 7,
     "metadata": {},
     "output_type": "execute_result"
    }
   ],
   "source": [
    "iphone_reviews+ip"
   ]
  },
  {
   "cell_type": "code",
   "execution_count": 2,
   "id": "910090bd",
   "metadata": {},
   "outputs": [],
   "source": [
    "# writng reviews in a text file \n",
    "with open(\"iphone.txt\",\"w\",encoding='utf8') as output:\n",
    "    output.write(str(iphone_reviews))"
   ]
  },
  {
   "cell_type": "code",
   "execution_count": 3,
   "id": "1b13e353",
   "metadata": {},
   "outputs": [],
   "source": [
    "########### Extracting reviews from snapdeal website ##############\n",
    "\n",
    "iphone_snapdeal=[]\n",
    "url1 = \"https://www.snapdeal.com/product/apple-iphone-5c-16-gb/988871559/reviews?page=\"\n",
    "url2 = \"&sortBy=RECENCY&vsrc=rcnt#defRevPDP\"\n",
    "### Extracting reviews from Amazon website ################\n",
    "for i in range(1,10):\n",
    "  ip=[]  \n",
    "  base_url = url1+str(i)+url2\n",
    "  response = requests.get(base_url)\n",
    "  soup = bs(response.content,\"html.parser\")# creating soup object to iterate over the extracted content \n",
    "  temp = soup.findAll(\"div\",attrs={\"class\",\"user-review\"})# Extracting the content under specific tags  \n",
    "  for j in range(len(temp)):\n",
    "    ip.append(temp[j].find(\"p\").text)\n",
    "  iphone_snapdeal=iphone_snapdeal+ip  # adding the reviews of one page to empty list which in future contains all the reviews\n",
    "\n"
   ]
  },
  {
   "cell_type": "code",
   "execution_count": 4,
   "id": "681a94e5",
   "metadata": {},
   "outputs": [],
   "source": [
    "### Removing repeated reviews \n",
    "iphone_snapdeal = list(set(iphone_snapdeal))\n",
    "\n",
    "# Writing reviews into text file \n",
    "with open(\"ip_snapdeal.txt\",\"w\",encoding=\"utf-8\") as snp:\n",
    "    snp.write(str(iphone_snapdeal))"
   ]
  },
  {
   "cell_type": "code",
   "execution_count": 5,
   "id": "061b920d",
   "metadata": {
    "scrolled": false
   },
   "outputs": [
    {
     "data": {
      "text/plain": [
       "['Good phone',\n",
       " 'Good Price. Great Seller. Genuine Product. Fast Shipping. Recommended*****',\n",
       " 'Awesome iphone in this price range.\\ni would recommend this phone',\n",
       " 'Satisfied and will buy more products from Snapdeal',\n",
       " 'Very good one perfectly the original one with all original accessories',\n",
       " 'Very good product and delivered in time  as committed; true value for money',\n",
       " 'The product quality is good but the only thing is memory capacity is not sufficient for storing the data',\n",
       " 'Excellent product. Can be recommended to my friends and family members.',\n",
       " 'Good product. Worth buying. Nice phone. Timely delivery by snap deal',\n",
       " 'Pros : Picture quality is awesome, sound with hearing ad is good, look and feel is good \\n \\ncons: You cannot transfer files using bluetooth from andriod/blackberry/windows to iphone, You have to use some file transfer app like shareit.\\n\\nOther is good. I am new to iphone so till now this is it.\\n\\niPhone 5c + Snapdeal before time delivery = 4 stars',\n",
       " \"The OS will take around 5GB, leaving only 3 GB for your files. Unless you're not a heavy files user.\",\n",
       " \"It's really 100% worth to buy this product. I am fully satisfied with this product.\",\n",
       " \"D phone is good. IOS is d best OS.... Safe also. D phone looks great though it consists plastic body. Metal body looks good bt dt nt means plastic body looks cheap plastic may also b nice in looks. Its camera is superb. Battery also. Dere is only one problem nd dat is space... Bt I can't say dis is d phone's problem at all. I hv chosen d 8gb phone so it's my flaw. But in 1 word i just can say it is d best phone in dis price. Thumbs up APPLE\",\n",
       " 'Amazing product at this price....At first I was reluctant to buy an apple product from snapdeal but the deal made me crazy n I ordered with fingers cr \\xa0read more ',\n",
       " 'Easy and quick returns...\\nOriginal products...\\n\\nGood job snapdeal...keep it up!!!',\n",
       " 'Have switched from android to apple and i am pretty satisfied with iPhone 5c . Excellent camera , crisp display . The battery  issue has been solved with the latest ios9 update .',\n",
       " 'Great product at such amazing price. Delivery was fast. N iPhone is amazing.',\n",
       " 'Genuine product quality great.. Overall perfect',\n",
       " 'iphone really nice cell',\n",
       " 'Very good phone in this price category with manufacturers warranty',\n",
       " 'good as like iphone,  apple , and snapdeal service was good',\n",
       " 'Bought this for my dear wife as a surprise. Got delivered on time!',\n",
       " 'awesum phone.good price good product.iphone is the best',\n",
       " 'Beautiful Product. Original Apple Product and delivery in 2nd day.\\nAnd iPhone is iPhone ;-)',\n",
       " 'They have sold this Iphone on interest free emi scheme. Even though the phone was available from other sellers at a cheaper price. But no interest part has been credited to my account till now. Snapdeal hasnt taken any action on this issue. Dont buy on fraudulent schemes.',\n",
       " 'Good buy at an affordable price during the sale.',\n",
       " 'Best phone my iPhone',\n",
       " 'Worth in this price. Excellent features. Overall performance is Good',\n",
       " 'Features are good....but the phone gets heated after some time',\n",
       " 'I am very very happy with this iPhone .when I was ordering this phone I had little doubt about that. But after receiving this phone I am really very happy.also found original I iPhone.earlier I had doubted',\n",
       " \"It's cool phone, good processing with latest iOS. The cons are: Low memory space. There is total 8 gb space, and almost 6 gb are already filled u \\xa0read more  \",\n",
       " \"It's  good Value for the money paid . The  Item was well packed and delivered  on time .\",\n",
       " 'Good budgeted iphone. Should only go for it if want to have an iphone experience but within your budget.',\n",
       " 'I am really happy with product',\n",
       " 'Price and delivery service are good I received my order on time',\n",
       " 'THE PROMPTNESS IN DELIVERY AND THE PRODUCT RECEIVED IS \\n\\nGOOD AND I AM SATISFIED',\n",
       " 'Worth buying from snap deal due to its competitive price and good service\\nThanks sd for the phone at this price',\n",
       " 'I am very much happy with my product thanks to SNEPDEAL.',\n",
       " 'I bought iPhone 5C with best deal ever.  Product is quite good and I also updated it to latest iOS version.\\nVery happy with the deal..',\n",
       " 'Good price, Great phone, very happy to own one. Recommending to everyone',\n",
       " 'its nice to deal with Snapdeal. good shipping service at all...',\n",
       " 'The 5C was delivered in a sealed box - crisp and brand new !  super deal.',\n",
       " 'Very good service by seller. Faster delivery and proper packing.',\n",
       " 'Service quality is very good and level of interactions have been good.',\n",
       " 'Awesome mobile working smooth just like an apple iPhone hahahaha its cool',\n",
       " 'Really happy with the product and service..always the best..:)',\n",
       " \"Ordered for my sister's rakhi gift 1 week prior . however it came faster than that..\\nand thanks for getting offer from recharge site.\\n\\ngreat job team.\",\n",
       " 'The piece delivered in good conditions... Received a discount of 1000rs on free charge coupon. Delivered within 2 days before committed delivery.',\n",
       " 'Quality product from snapdeal. Delivery was on time.',\n",
       " 'This a great experience to have a iphone, Snapdeal delivery was above expectation !!',\n",
       " 'Good , product is satisfied which I got from Snapdeal',\n",
       " \"Totaly satisfy with the product... It is a brand new 100% genuine iphone. And got it within 24 hours of ordering.... Packing was superb with 'PRIORITY' mark on the box.... Thanx to snapdeal !\",\n",
       " 'I got my iPhone 5c white colour in good condition and best rate \\nsnapdeal rate is always lowest then other sites and store also',\n",
       " \"I'm also happy with Snapdeal service\",\n",
       " 'offer product is available, customer care also good',\n",
       " 'dream come true',\n",
       " \"Honestly speaking initially I was hesitated because of previous reviews about snapdeal. But those all reviews are fake and just to damage the reputation of snapdeal. I am truely satisfied by snapdeal's service. 100% satisfactory. Genuine product with honest service. So don't believe on rumours. I am going with five stars. Thanks snapdeal for wonderful shopping experience.\",\n",
       " 'got delivered on time and satisfactory product as always',\n",
       " 'Good Product, Do not hang. Samsung products are pathetic. Used Grand Qauttro which use to take 20-30 seconds to open even contact list.\\n\\nApple is quality product. Only problem is you need to pay for everything.',\n",
       " 'Superb model , snapdeal delivered as promised time',\n",
       " 'Awsme delivry on time and product recievd in good condition and i think its a awsme site for shoping',\n",
       " 'Recently purchase the phone and was a bit doubtfull while purchasing, but i must tell you this is the most best iphone you can get at this price. It was packed beatifully by the seller and same day dispatch.\\nPros\\n1. Very Cheap prize\\n2. IOS 9 upgrade.\\n3. Very smooth\\n4. Good build quality\\n\\nCons\\n1.Plastic body\\n2. 8GB memory\\n\\nBut even plastic body looks attractive with premium and good plastuc used. Everyone should go with this phone if you have a budget of 20K',\n",
       " 'Its an awesome phone',\n",
       " 'This product is awwsum in use... As by looks also.. I would defination prefer this nxt time also',\n",
       " 'got this at a great discount, the phone is worth it. my wife wanted to try an iphone and she is loving it now',\n",
       " 'This is the first iPhone that I bought. After using android for 3 years, I was not satisfied with the performance. So, thought of going for iPhone. Though, I didnt want to go for iPhone 6S as it was very costly for me. So, decided that I will buy iPhone 5C.\\n\\nSnapdeal has provided me a very great deal as compared to other sites. Also, the delivery was very prompt as well.\\n\\nPros: Sleek phone, looks sexy, no lags, really great headphone, got upgrade to iOS 9\\n\\nCons: Plastic body',\n",
       " \"It's been close to 5 months since I bought this product and till now, I am happy with how the product has performed.\",\n",
       " 'IPhone 5c good product on good price. Within one day I got the product though in site specied 3 working days.',\n",
       " 'Lacks the feel.',\n",
       " 'very good product...thanks to snapdeal and sellers to delivered the original phone :0)',\n",
       " 'It is a nice phone by Apple. Camera is good and phone works perfectly. It is worth a Shot',\n",
       " 'Good Mobile but its memory will be filled faster its just 8GB limit',\n",
       " 'Good  i phone mobile oparating essy , inter net fast working',\n",
       " 'it is simple \\nall the thing that u need it having it \\nI have buy it 2 year before from snapdeal and still it is in perfect condition.\\nno lagging till today\\nsuitable for your business need.',\n",
       " 'Marvallous Phone...Ever used....You must buy',\n",
       " 'A mush have deal',\n",
       " 'The product supplied by Snapdeal is very good at best price. It is as shown',\n",
       " 'I am happy with my new Iphone. Thanks you for providing me with the product of my choice with the best deal.',\n",
       " 'goood.. fast shipping',\n",
       " 'I have got ths phone in perfect condition and thank you snapdeal for perfect elivery.i guess ur are earning the trust back',\n",
       " 'genuine product delivered within scheduled timframe. Thanks snapdeal !',\n",
       " 'lovely  fastest super',\n",
       " 'Good product and packing was also good only issue with courier service..they took more then 10 days to deliver .',\n",
       " 'Mobile was got no hang smooth  touch  performing well',\n",
       " 'Excellent Product & Good Service by Snap Deal.',\n",
       " 'i bought iphone 5c from snapdeal and the product is absolutly real and it wors properly .. price is also very low then the other online shoping sides ... so thnxx to snapdeal adorable phone and top class service 😘',\n",
       " 'I M Happy With iphone5c and snapdeal services. i would recommended Snapdeal service my near & dear']"
      ]
     },
     "execution_count": 5,
     "metadata": {},
     "output_type": "execute_result"
    }
   ],
   "source": [
    "iphone_snapdeal"
   ]
  }
 ],
 "metadata": {
  "kernelspec": {
   "display_name": "Python 3",
   "language": "python",
   "name": "python3"
  },
  "language_info": {
   "codemirror_mode": {
    "name": "ipython",
    "version": 3
   },
   "file_extension": ".py",
   "mimetype": "text/x-python",
   "name": "python",
   "nbconvert_exporter": "python",
   "pygments_lexer": "ipython3",
   "version": "3.8.3"
  }
 },
 "nbformat": 4,
 "nbformat_minor": 5
}
